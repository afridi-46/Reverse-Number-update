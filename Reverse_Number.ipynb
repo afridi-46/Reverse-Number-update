{
  "nbformat": 4,
  "nbformat_minor": 0,
  "metadata": {
    "colab": {
      "provenance": []
    },
    "kernelspec": {
      "name": "python3",
      "display_name": "Python 3"
    },
    "language_info": {
      "name": "python"
    }
  },
  "cells": [
    {
      "cell_type": "code",
      "source": [
        "n = int(input(\"Enter any number : \"))\n",
        "rev = 0\n",
        "\n",
        "while(n != 0):\n",
        "    reminder = n % 10\n",
        "    rev = rev * 10 + reminder\n",
        "    n = n // 10\n",
        "\n",
        "print(\"Reversed number : \", rev)"
      ],
      "metadata": {
        "colab": {
          "base_uri": "https://localhost:8080/"
        },
        "id": "M7JtdoZRIGQe",
        "outputId": "2c8ec5be-7a2f-4442-db50-ea7e2f3c5652"
      },
      "execution_count": 2,
      "outputs": [
        {
          "output_type": "stream",
          "name": "stdout",
          "text": [
            "Enter any number : 89\n",
            "Reversed number :  98\n"
          ]
        }
      ]
    },
    {
      "cell_type": "code",
      "source": [],
      "metadata": {
        "id": "K1D1iQ0CISDf"
      },
      "execution_count": null,
      "outputs": []
    }
  ]
}